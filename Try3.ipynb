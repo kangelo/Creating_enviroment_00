{
  "nbformat": 4,
  "nbformat_minor": 0,
  "metadata": {
    "colab": {
      "name": "Try3.ipynb",
      "provenance": [],
      "collapsed_sections": [],
      "authorship_tag": "ABX9TyNYhTBHRnevp59DCZw90BbG",
      "include_colab_link": true
    },
    "kernelspec": {
      "name": "python3",
      "display_name": "Python 3"
    },
    "language_info": {
      "name": "python"
    }
  },
  "cells": [
    {
      "cell_type": "markdown",
      "metadata": {
        "id": "view-in-github",
        "colab_type": "text"
      },
      "source": [
        "<a href=\"https://colab.research.google.com/github/kangelo/Creating_enviroment_00/blob/main/Try3.ipynb\" target=\"_parent\"><img src=\"https://colab.research.google.com/assets/colab-badge.svg\" alt=\"Open In Colab\"/></a>"
      ]
    },
    {
      "cell_type": "code",
      "metadata": {
        "id": "sHnndvmMo8DN"
      },
      "source": [
        "!pip install pybullet\n",
        "import pybullet as p\n",
        "\n",
        "\n",
        "# Can alternatively pass in p.DIRECT \n",
        "client = p.connect(p.GUI)\n",
        "p.setGravity(0, 0, -10, physicsClientId=client) \n",
        "\n",
        "import pybullet_data\n",
        "p.setAdditionalSearchPath(pybullet_data.getDataPath())\n",
        "planeId = p.loadURDF(\"plane.urdf\")"
      ],
      "execution_count": null,
      "outputs": []
    }
  ]
}