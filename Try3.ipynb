{
  "nbformat": 4,
  "nbformat_minor": 0,
  "metadata": {
    "colab": {
      "name": "Try3.ipynb",
      "provenance": [],
      "collapsed_sections": [],
      "authorship_tag": "ABX9TyO6hW+DOxHt7tNwE12J3geF",
      "include_colab_link": true
    },
    "kernelspec": {
      "name": "python3",
      "display_name": "Python 3"
    },
    "language_info": {
      "name": "python"
    }
  },
  "cells": [
    {
      "cell_type": "markdown",
      "metadata": {
        "id": "view-in-github",
        "colab_type": "text"
      },
      "source": [
        "<a href=\"https://colab.research.google.com/github/kangelo/Creating_enviroment_00/blob/main/Try3.ipynb\" target=\"_parent\"><img src=\"https://colab.research.google.com/assets/colab-badge.svg\" alt=\"Open In Colab\"/></a>"
      ]
    },
    {
      "cell_type": "code",
      "metadata": {
        "id": "xyDqmV_YitDg",
        "colab": {
          "base_uri": "https://localhost:8080/"
        },
        "outputId": "a4af6825-8daf-49da-85bc-af67b1f3d8fd"
      },
      "source": [
        "# Install the PyBullet module.\n",
        "!pip install -U pybullet"
      ],
      "execution_count": 1,
      "outputs": [
        {
          "output_type": "stream",
          "text": [
            "Collecting pybullet\n",
            "\u001b[?25l  Downloading https://files.pythonhosted.org/packages/bc/3e/8110ff17460ce718dbf07745325ac74444101f7133062937e1172ae87ef0/pybullet-3.1.3-cp37-cp37m-manylinux1_x86_64.whl (89.3MB)\n",
            "\u001b[K     |████████████████████████████████| 89.3MB 62kB/s \n",
            "\u001b[?25hRequirement already satisfied, skipping upgrade: numpy<=1.19.5 in /usr/local/lib/python3.7/dist-packages (from pybullet) (1.19.5)\n",
            "Installing collected packages: pybullet\n",
            "Successfully installed pybullet-3.1.3\n"
          ],
          "name": "stdout"
        }
      ]
    },
    {
      "cell_type": "code",
      "metadata": {
        "colab": {
          "base_uri": "https://localhost:8080/"
        },
        "id": "-AfO1iixsGG8",
        "outputId": "1cec4c38-4ca5-413c-e81f-f23e3b78bf09"
      },
      "source": [
        "import pybullet as p\n",
        "\n",
        "p.connect(p.DIRECT)"
      ],
      "execution_count": 2,
      "outputs": [
        {
          "output_type": "execute_result",
          "data": {
            "text/plain": [
              "0"
            ]
          },
          "metadata": {
            "tags": []
          },
          "execution_count": 2
        }
      ]
    },
    {
      "cell_type": "code",
      "metadata": {
        "id": "DR6B6E5vsfUU"
      },
      "source": [
        "import pybullet_data\n",
        "\n",
        "p.setAdditionalSearchPath(pybullet_data.getDataPath())"
      ],
      "execution_count": 8,
      "outputs": []
    },
    {
      "cell_type": "code",
      "metadata": {
        "id": "4UHhYcEgipoX",
        "colab": {
          "base_uri": "https://localhost:8080/",
          "height": 238
        },
        "outputId": "56b4c7cc-b21d-40ff-fe07-f8fb631e639e"
      },
      "source": [
        "# First, let's make sure we start with a fresh new simulation.\n",
        "# Otherwise, we can keep adding objects by running this cell over again.\n",
        "p.resetSimulation()\n",
        "\n",
        "# Load our simulation floor plane at the origin (0, 0, 0).\n",
        "p.loadURDF('plane.urdf')\n",
        "\n",
        "# Load an R2D2 droid at the position at 0.5 meters height in the z-axis.\n",
        "# r2d2 = p.loadURDF('r2d2.urdf', [0, 0, 0.5])\n",
        "\n",
        "carId = p.loadURDF('racecar/racecar.urdf', basePosition=[0,0,0.2])\n",
        "\n",
        "# We can check the number of bodies we have in the simulation.\n",
        "p.getNumBodies()\n",
        "\n",
        "position, orientation = p.getBasePositionAndOrientation(carId)\n",
        "for _ in range(100): \n",
        "    p.stepSimulation()\n",
        "\n",
        "for _ in range(300): \n",
        "    pos, ori = p.getBasePositionAndOrientation(carId)\n",
        "    p.applyExternalForce(carId, 0, [50, 0, 0], pos, p.WORLD_FRAME)\n",
        "    p.stepSimulation()"
      ],
      "execution_count": 1,
      "outputs": [
        {
          "output_type": "error",
          "ename": "NameError",
          "evalue": "ignored",
          "traceback": [
            "\u001b[0;31m---------------------------------------------------------------------------\u001b[0m",
            "\u001b[0;31mNameError\u001b[0m                                 Traceback (most recent call last)",
            "\u001b[0;32m<ipython-input-1-440c00a461d9>\u001b[0m in \u001b[0;36m<module>\u001b[0;34m()\u001b[0m\n\u001b[1;32m      1\u001b[0m \u001b[0;31m# First, let's make sure we start with a fresh new simulation.\u001b[0m\u001b[0;34m\u001b[0m\u001b[0;34m\u001b[0m\u001b[0;34m\u001b[0m\u001b[0m\n\u001b[1;32m      2\u001b[0m \u001b[0;31m# Otherwise, we can keep adding objects by running this cell over again.\u001b[0m\u001b[0;34m\u001b[0m\u001b[0;34m\u001b[0m\u001b[0;34m\u001b[0m\u001b[0m\n\u001b[0;32m----> 3\u001b[0;31m \u001b[0mp\u001b[0m\u001b[0;34m.\u001b[0m\u001b[0mresetSimulation\u001b[0m\u001b[0;34m(\u001b[0m\u001b[0;34m)\u001b[0m\u001b[0;34m\u001b[0m\u001b[0;34m\u001b[0m\u001b[0m\n\u001b[0m\u001b[1;32m      4\u001b[0m \u001b[0;34m\u001b[0m\u001b[0m\n\u001b[1;32m      5\u001b[0m \u001b[0;31m# Load our simulation floor plane at the origin (0, 0, 0).\u001b[0m\u001b[0;34m\u001b[0m\u001b[0;34m\u001b[0m\u001b[0;34m\u001b[0m\u001b[0m\n",
            "\u001b[0;31mNameError\u001b[0m: name 'p' is not defined"
          ]
        }
      ]
    }
  ]
}