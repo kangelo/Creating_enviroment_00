{
  "nbformat": 4,
  "nbformat_minor": 0,
  "metadata": {
    "colab": {
      "name": "Try3.ipynb",
      "provenance": [],
      "collapsed_sections": [],
      "authorship_tag": "ABX9TyO/5Dgg10+XOrezm1FEvZzj",
      "include_colab_link": true
    },
    "kernelspec": {
      "name": "python3",
      "display_name": "Python 3"
    },
    "language_info": {
      "name": "python"
    }
  },
  "cells": [
    {
      "cell_type": "markdown",
      "metadata": {
        "id": "view-in-github",
        "colab_type": "text"
      },
      "source": [
        "<a href=\"https://colab.research.google.com/github/kangelo/Creating_enviroment_00/blob/main/Try3.ipynb\" target=\"_parent\"><img src=\"https://colab.research.google.com/assets/colab-badge.svg\" alt=\"Open In Colab\"/></a>"
      ]
    },
    {
      "cell_type": "code",
      "metadata": {
        "id": "xyDqmV_YitDg",
        "colab": {
          "base_uri": "https://localhost:8080/"
        },
        "outputId": "ae671632-3b71-4abf-d254-d8a2ed67a50e"
      },
      "source": [
        "# Install the PyBullet module.\n",
        "!pip install -U pybullet"
      ],
      "execution_count": 1,
      "outputs": [
        {
          "output_type": "stream",
          "text": [
            "Requirement already up-to-date: pybullet in /usr/local/lib/python3.7/dist-packages (3.1.2)\n",
            "Requirement already satisfied, skipping upgrade: numpy<=1.19.5 in /usr/local/lib/python3.7/dist-packages (from pybullet) (1.19.5)\n"
          ],
          "name": "stdout"
        }
      ]
    },
    {
      "cell_type": "code",
      "metadata": {
        "colab": {
          "base_uri": "https://localhost:8080/"
        },
        "id": "-AfO1iixsGG8",
        "outputId": "f724af96-de11-4aec-ccff-f155d5753329"
      },
      "source": [
        "import pybullet as p\n",
        "\n",
        "p.connect(p.DIRECT)"
      ],
      "execution_count": 4,
      "outputs": [
        {
          "output_type": "execute_result",
          "data": {
            "text/plain": [
              "0"
            ]
          },
          "metadata": {
            "tags": []
          },
          "execution_count": 4
        }
      ]
    },
    {
      "cell_type": "code",
      "metadata": {
        "id": "DR6B6E5vsfUU"
      },
      "source": [
        "import pybullet_data\n",
        "\n",
        "p.setAdditionalSearchPath(pybullet_data.getDataPath())"
      ],
      "execution_count": 5,
      "outputs": []
    },
    {
      "cell_type": "code",
      "metadata": {
        "id": "4UHhYcEgipoX",
        "colab": {
          "base_uri": "https://localhost:8080/"
        },
        "outputId": "92d13157-3240-4a2b-8bd2-71a1f6d7bf4a"
      },
      "source": [
        "# First, let's make sure we start with a fresh new simulation.\n",
        "# Otherwise, we can keep adding objects by running this cell over again.\n",
        "p.resetSimulation()\n",
        "\n",
        "# Load our simulation floor plane at the origin (0, 0, 0).\n",
        "p.loadURDF('plane.urdf')\n",
        "\n",
        "# Load an R2D2 droid at the position at 0.5 meters height in the z-axis.\n",
        "r2d2 = p.loadURDF('r2d2.urdf', [0, 0, 0.5])\n",
        "\n",
        "# We can check the number of bodies we have in the simulation.\n",
        "p.getNumBodies()"
      ],
      "execution_count": 7,
      "outputs": [
        {
          "output_type": "execute_result",
          "data": {
            "text/plain": [
              "2"
            ]
          },
          "metadata": {
            "tags": []
          },
          "execution_count": 7
        }
      ]
    }
  ]
}